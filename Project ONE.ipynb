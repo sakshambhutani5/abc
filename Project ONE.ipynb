{
 "cells": [
  {
   "cell_type": "code",
   "execution_count": 1,
   "metadata": {},
   "outputs": [],
   "source": [
    "import numpy as np\n",
    "import pandas as pd\n",
    "from pandas_datareader import data as pdr\n",
    "from scipy.stats import norm\n",
    "import matplotlib.pyplot as plt\n",
    "%matplotlib inline\n",
    "import yfinance as yfin\n",
    "yfin.pdr_override()"
   ]
  },
  {
   "cell_type": "code",
   "execution_count": 2,
   "metadata": {},
   "outputs": [
    {
     "name": "stdout",
     "output_type": "stream",
     "text": [
      "[*********************100%***********************]  1 of 1 completed\n"
     ]
    },
    {
     "data": {
      "text/html": [
       "<div>\n",
       "<style scoped>\n",
       "    .dataframe tbody tr th:only-of-type {\n",
       "        vertical-align: middle;\n",
       "    }\n",
       "\n",
       "    .dataframe tbody tr th {\n",
       "        vertical-align: top;\n",
       "    }\n",
       "\n",
       "    .dataframe thead th {\n",
       "        text-align: right;\n",
       "    }\n",
       "</style>\n",
       "<table border=\"1\" class=\"dataframe\">\n",
       "  <thead>\n",
       "    <tr style=\"text-align: right;\">\n",
       "      <th></th>\n",
       "      <th>Open</th>\n",
       "      <th>High</th>\n",
       "      <th>Low</th>\n",
       "      <th>Close</th>\n",
       "      <th>Adj Close</th>\n",
       "      <th>Volume</th>\n",
       "    </tr>\n",
       "    <tr>\n",
       "      <th>Date</th>\n",
       "      <th></th>\n",
       "      <th></th>\n",
       "      <th></th>\n",
       "      <th></th>\n",
       "      <th></th>\n",
       "      <th></th>\n",
       "    </tr>\n",
       "  </thead>\n",
       "  <tbody>\n",
       "    <tr>\n",
       "      <th>2017-01-02</th>\n",
       "      <td>536.910645</td>\n",
       "      <td>539.882446</td>\n",
       "      <td>531.140320</td>\n",
       "      <td>537.455444</td>\n",
       "      <td>523.695190</td>\n",
       "      <td>3275674</td>\n",
       "    </tr>\n",
       "    <tr>\n",
       "      <th>2017-01-03</th>\n",
       "      <td>539.808167</td>\n",
       "      <td>543.349609</td>\n",
       "      <td>535.474243</td>\n",
       "      <td>539.585266</td>\n",
       "      <td>525.770447</td>\n",
       "      <td>2969384</td>\n",
       "    </tr>\n",
       "    <tr>\n",
       "      <th>2017-01-04</th>\n",
       "      <td>541.318848</td>\n",
       "      <td>541.368347</td>\n",
       "      <td>527.153137</td>\n",
       "      <td>528.564758</td>\n",
       "      <td>515.032166</td>\n",
       "      <td>4796129</td>\n",
       "    </tr>\n",
       "    <tr>\n",
       "      <th>2017-01-05</th>\n",
       "      <td>530.471680</td>\n",
       "      <td>534.879883</td>\n",
       "      <td>529.357239</td>\n",
       "      <td>533.641602</td>\n",
       "      <td>519.979065</td>\n",
       "      <td>4030815</td>\n",
       "    </tr>\n",
       "    <tr>\n",
       "      <th>2017-01-06</th>\n",
       "      <td>532.056641</td>\n",
       "      <td>537.405945</td>\n",
       "      <td>531.511780</td>\n",
       "      <td>532.428101</td>\n",
       "      <td>518.796570</td>\n",
       "      <td>3620853</td>\n",
       "    </tr>\n",
       "    <tr>\n",
       "      <th>...</th>\n",
       "      <td>...</td>\n",
       "      <td>...</td>\n",
       "      <td>...</td>\n",
       "      <td>...</td>\n",
       "      <td>...</td>\n",
       "      <td>...</td>\n",
       "    </tr>\n",
       "    <tr>\n",
       "      <th>2022-03-02</th>\n",
       "      <td>2334.449951</td>\n",
       "      <td>2401.000000</td>\n",
       "      <td>2329.199951</td>\n",
       "      <td>2398.550049</td>\n",
       "      <td>2398.550049</td>\n",
       "      <td>9909226</td>\n",
       "    </tr>\n",
       "    <tr>\n",
       "      <th>2022-03-03</th>\n",
       "      <td>2400.000000</td>\n",
       "      <td>2414.850098</td>\n",
       "      <td>2370.050049</td>\n",
       "      <td>2378.300049</td>\n",
       "      <td>2378.300049</td>\n",
       "      <td>4701183</td>\n",
       "    </tr>\n",
       "    <tr>\n",
       "      <th>2022-03-04</th>\n",
       "      <td>2353.000000</td>\n",
       "      <td>2364.300049</td>\n",
       "      <td>2320.350098</td>\n",
       "      <td>2325.550049</td>\n",
       "      <td>2325.550049</td>\n",
       "      <td>4986814</td>\n",
       "    </tr>\n",
       "    <tr>\n",
       "      <th>2022-03-07</th>\n",
       "      <td>2278.699951</td>\n",
       "      <td>2312.100098</td>\n",
       "      <td>2222.000000</td>\n",
       "      <td>2239.550049</td>\n",
       "      <td>2239.550049</td>\n",
       "      <td>8299295</td>\n",
       "    </tr>\n",
       "    <tr>\n",
       "      <th>2022-03-08</th>\n",
       "      <td>2211.500000</td>\n",
       "      <td>2246.000000</td>\n",
       "      <td>2180.000000</td>\n",
       "      <td>2235.500000</td>\n",
       "      <td>2235.500000</td>\n",
       "      <td>9822210</td>\n",
       "    </tr>\n",
       "  </tbody>\n",
       "</table>\n",
       "<p>1281 rows × 6 columns</p>\n",
       "</div>"
      ],
      "text/plain": [
       "                   Open         High          Low        Close    Adj Close  \\\n",
       "Date                                                                          \n",
       "2017-01-02   536.910645   539.882446   531.140320   537.455444   523.695190   \n",
       "2017-01-03   539.808167   543.349609   535.474243   539.585266   525.770447   \n",
       "2017-01-04   541.318848   541.368347   527.153137   528.564758   515.032166   \n",
       "2017-01-05   530.471680   534.879883   529.357239   533.641602   519.979065   \n",
       "2017-01-06   532.056641   537.405945   531.511780   532.428101   518.796570   \n",
       "...                 ...          ...          ...          ...          ...   \n",
       "2022-03-02  2334.449951  2401.000000  2329.199951  2398.550049  2398.550049   \n",
       "2022-03-03  2400.000000  2414.850098  2370.050049  2378.300049  2378.300049   \n",
       "2022-03-04  2353.000000  2364.300049  2320.350098  2325.550049  2325.550049   \n",
       "2022-03-07  2278.699951  2312.100098  2222.000000  2239.550049  2239.550049   \n",
       "2022-03-08  2211.500000  2246.000000  2180.000000  2235.500000  2235.500000   \n",
       "\n",
       "             Volume  \n",
       "Date                 \n",
       "2017-01-02  3275674  \n",
       "2017-01-03  2969384  \n",
       "2017-01-04  4796129  \n",
       "2017-01-05  4030815  \n",
       "2017-01-06  3620853  \n",
       "...             ...  \n",
       "2022-03-02  9909226  \n",
       "2022-03-03  4701183  \n",
       "2022-03-04  4986814  \n",
       "2022-03-07  8299295  \n",
       "2022-03-08  9822210  \n",
       "\n",
       "[1281 rows x 6 columns]"
      ]
     },
     "execution_count": 2,
     "metadata": {},
     "output_type": "execute_result"
    }
   ],
   "source": [
    "data = pdr.DataReader('RELIANCE.NS', source = 'yahoo', start = '2017-1-1')\n",
    "data"
   ]
  },
  {
   "cell_type": "code",
   "execution_count": 3,
   "metadata": {},
   "outputs": [
    {
     "data": {
      "text/html": [
       "<div>\n",
       "<style scoped>\n",
       "    .dataframe tbody tr th:only-of-type {\n",
       "        vertical-align: middle;\n",
       "    }\n",
       "\n",
       "    .dataframe tbody tr th {\n",
       "        vertical-align: top;\n",
       "    }\n",
       "\n",
       "    .dataframe thead th {\n",
       "        text-align: right;\n",
       "    }\n",
       "</style>\n",
       "<table border=\"1\" class=\"dataframe\">\n",
       "  <thead>\n",
       "    <tr style=\"text-align: right;\">\n",
       "      <th></th>\n",
       "      <th>Open</th>\n",
       "      <th>High</th>\n",
       "      <th>Low</th>\n",
       "      <th>Close</th>\n",
       "      <th>Adj Close</th>\n",
       "      <th>Volume</th>\n",
       "    </tr>\n",
       "    <tr>\n",
       "      <th>Date</th>\n",
       "      <th></th>\n",
       "      <th></th>\n",
       "      <th></th>\n",
       "      <th></th>\n",
       "      <th></th>\n",
       "      <th></th>\n",
       "    </tr>\n",
       "  </thead>\n",
       "  <tbody>\n",
       "    <tr>\n",
       "      <th>2017-01-02</th>\n",
       "      <td>536.910645</td>\n",
       "      <td>539.882446</td>\n",
       "      <td>531.140320</td>\n",
       "      <td>537.455444</td>\n",
       "      <td>523.695190</td>\n",
       "      <td>3275674</td>\n",
       "    </tr>\n",
       "    <tr>\n",
       "      <th>2017-01-03</th>\n",
       "      <td>539.808167</td>\n",
       "      <td>543.349609</td>\n",
       "      <td>535.474243</td>\n",
       "      <td>539.585266</td>\n",
       "      <td>525.770447</td>\n",
       "      <td>2969384</td>\n",
       "    </tr>\n",
       "    <tr>\n",
       "      <th>2017-01-04</th>\n",
       "      <td>541.318848</td>\n",
       "      <td>541.368347</td>\n",
       "      <td>527.153137</td>\n",
       "      <td>528.564758</td>\n",
       "      <td>515.032166</td>\n",
       "      <td>4796129</td>\n",
       "    </tr>\n",
       "    <tr>\n",
       "      <th>2017-01-05</th>\n",
       "      <td>530.471680</td>\n",
       "      <td>534.879883</td>\n",
       "      <td>529.357239</td>\n",
       "      <td>533.641602</td>\n",
       "      <td>519.979065</td>\n",
       "      <td>4030815</td>\n",
       "    </tr>\n",
       "    <tr>\n",
       "      <th>2017-01-06</th>\n",
       "      <td>532.056641</td>\n",
       "      <td>537.405945</td>\n",
       "      <td>531.511780</td>\n",
       "      <td>532.428101</td>\n",
       "      <td>518.796570</td>\n",
       "      <td>3620853</td>\n",
       "    </tr>\n",
       "  </tbody>\n",
       "</table>\n",
       "</div>"
      ],
      "text/plain": [
       "                  Open        High         Low       Close   Adj Close  \\\n",
       "Date                                                                     \n",
       "2017-01-02  536.910645  539.882446  531.140320  537.455444  523.695190   \n",
       "2017-01-03  539.808167  543.349609  535.474243  539.585266  525.770447   \n",
       "2017-01-04  541.318848  541.368347  527.153137  528.564758  515.032166   \n",
       "2017-01-05  530.471680  534.879883  529.357239  533.641602  519.979065   \n",
       "2017-01-06  532.056641  537.405945  531.511780  532.428101  518.796570   \n",
       "\n",
       "             Volume  \n",
       "Date                 \n",
       "2017-01-02  3275674  \n",
       "2017-01-03  2969384  \n",
       "2017-01-04  4796129  \n",
       "2017-01-05  4030815  \n",
       "2017-01-06  3620853  "
      ]
     },
     "execution_count": 3,
     "metadata": {},
     "output_type": "execute_result"
    }
   ],
   "source": [
    "data.head()"
   ]
  },
  {
   "cell_type": "code",
   "execution_count": 4,
   "metadata": {},
   "outputs": [
    {
     "name": "stdout",
     "output_type": "stream",
     "text": [
      "<class 'pandas.core.frame.DataFrame'>\n",
      "DatetimeIndex: 1281 entries, 2017-01-02 to 2022-03-08\n",
      "Data columns (total 6 columns):\n",
      " #   Column     Non-Null Count  Dtype  \n",
      "---  ------     --------------  -----  \n",
      " 0   Open       1281 non-null   float64\n",
      " 1   High       1281 non-null   float64\n",
      " 2   Low        1281 non-null   float64\n",
      " 3   Close      1281 non-null   float64\n",
      " 4   Adj Close  1281 non-null   float64\n",
      " 5   Volume     1281 non-null   int64  \n",
      "dtypes: float64(5), int64(1)\n",
      "memory usage: 70.1 KB\n"
     ]
    }
   ],
   "source": [
    "data.info()"
   ]
  },
  {
   "cell_type": "code",
   "execution_count": 5,
   "metadata": {},
   "outputs": [
    {
     "data": {
      "text/plain": [
       "Date\n",
       "2017-01-02     523.695190\n",
       "2017-01-03     525.770447\n",
       "2017-01-04     515.032166\n",
       "2017-01-05     519.979065\n",
       "2017-01-06     518.796570\n",
       "                 ...     \n",
       "2022-03-02    2398.550049\n",
       "2022-03-03    2378.300049\n",
       "2022-03-04    2325.550049\n",
       "2022-03-07    2239.550049\n",
       "2022-03-08    2235.500000\n",
       "Name: Adj Close, Length: 1281, dtype: float64"
      ]
     },
     "execution_count": 5,
     "metadata": {},
     "output_type": "execute_result"
    }
   ],
   "source": [
    "prices = data['Adj Close']\n",
    "\n",
    "prices"
   ]
  },
  {
   "cell_type": "code",
   "execution_count": 6,
   "metadata": {},
   "outputs": [
    {
     "data": {
      "image/png": "[encoded data removed]",
      "text/plain": [
       "<Figure size 432x288 with 1 Axes>"
      ]
     },
     "metadata": {
      "needs_background": "light"
     },
     "output_type": "display_data"
    }
   ],
   "source": [
    "prices.plot()\n",
    "plt.show()"
   ]
  },
  {
   "cell_type": "code",
   "execution_count": 7,
   "metadata": {},
   "outputs": [],
   "source": [
    "prices = prices.to_frame()"
   ]
  },
  {
   "cell_type": "code",
   "execution_count": 8,
   "metadata": {},
   "outputs": [
    {
     "data": {
      "text/html": [
       "<div>\n",
       "<style scoped>\n",
       "    .dataframe tbody tr th:only-of-type {\n",
       "        vertical-align: middle;\n",
       "    }\n",
       "\n",
       "    .dataframe tbody tr th {\n",
       "        vertical-align: top;\n",
       "    }\n",
       "\n",
       "    .dataframe thead th {\n",
       "        text-align: right;\n",
       "    }\n",
       "</style>\n",
       "<table border=\"1\" class=\"dataframe\">\n",
       "  <thead>\n",
       "    <tr style=\"text-align: right;\">\n",
       "      <th></th>\n",
       "      <th>Adj Close</th>\n",
       "      <th>7_Day_MA</th>\n",
       "    </tr>\n",
       "    <tr>\n",
       "      <th>Date</th>\n",
       "      <th></th>\n",
       "      <th></th>\n",
       "    </tr>\n",
       "  </thead>\n",
       "  <tbody>\n",
       "    <tr>\n",
       "      <th>2017-01-02</th>\n",
       "      <td>523.695190</td>\n",
       "      <td>NaN</td>\n",
       "    </tr>\n",
       "    <tr>\n",
       "      <th>2017-01-03</th>\n",
       "      <td>525.770447</td>\n",
       "      <td>NaN</td>\n",
       "    </tr>\n",
       "    <tr>\n",
       "      <th>2017-01-04</th>\n",
       "      <td>515.032166</td>\n",
       "      <td>NaN</td>\n",
       "    </tr>\n",
       "    <tr>\n",
       "      <th>2017-01-05</th>\n",
       "      <td>519.979065</td>\n",
       "      <td>NaN</td>\n",
       "    </tr>\n",
       "    <tr>\n",
       "      <th>2017-01-06</th>\n",
       "      <td>518.796570</td>\n",
       "      <td>NaN</td>\n",
       "    </tr>\n",
       "    <tr>\n",
       "      <th>...</th>\n",
       "      <td>...</td>\n",
       "      <td>...</td>\n",
       "    </tr>\n",
       "    <tr>\n",
       "      <th>2022-03-02</th>\n",
       "      <td>2398.550049</td>\n",
       "      <td>2351.535714</td>\n",
       "    </tr>\n",
       "    <tr>\n",
       "      <th>2022-03-03</th>\n",
       "      <td>2378.300049</td>\n",
       "      <td>2348.450021</td>\n",
       "    </tr>\n",
       "    <tr>\n",
       "      <th>2022-03-04</th>\n",
       "      <td>2325.550049</td>\n",
       "      <td>2339.385742</td>\n",
       "    </tr>\n",
       "    <tr>\n",
       "      <th>2022-03-07</th>\n",
       "      <td>2239.550049</td>\n",
       "      <td>2320.171456</td>\n",
       "    </tr>\n",
       "    <tr>\n",
       "      <th>2022-03-08</th>\n",
       "      <td>2235.500000</td>\n",
       "      <td>2317.278599</td>\n",
       "    </tr>\n",
       "  </tbody>\n",
       "</table>\n",
       "<p>1281 rows × 2 columns</p>\n",
       "</div>"
      ],
      "text/plain": [
       "              Adj Close     7_Day_MA\n",
       "Date                                \n",
       "2017-01-02   523.695190          NaN\n",
       "2017-01-03   525.770447          NaN\n",
       "2017-01-04   515.032166          NaN\n",
       "2017-01-05   519.979065          NaN\n",
       "2017-01-06   518.796570          NaN\n",
       "...                 ...          ...\n",
       "2022-03-02  2398.550049  2351.535714\n",
       "2022-03-03  2378.300049  2348.450021\n",
       "2022-03-04  2325.550049  2339.385742\n",
       "2022-03-07  2239.550049  2320.171456\n",
       "2022-03-08  2235.500000  2317.278599\n",
       "\n",
       "[1281 rows x 2 columns]"
      ]
     },
     "execution_count": 8,
     "metadata": {},
     "output_type": "execute_result"
    }
   ],
   "source": [
    "prices['7_Day_MA'] = (prices['Adj Close'] + prices['Adj Close'].shift(1) + prices['Adj Close'].shift(2) + prices['Adj Close'].shift(3) + prices['Adj Close'].shift(4) + prices['Adj Close'].shift(5) + prices['Adj Close'].shift(6))/7\n",
    "prices"
   ]
  },
  {
   "cell_type": "code",
   "execution_count": 9,
   "metadata": {},
   "outputs": [
    {
     "name": "stdout",
     "output_type": "stream",
     "text": [
      "[*********************100%***********************]  1 of 1 completed\n",
      "[*********************100%***********************]  1 of 1 completed\n"
     ]
    },
    {
     "data": {
      "text/html": [
       "<div>\n",
       "<style scoped>\n",
       "    .dataframe tbody tr th:only-of-type {\n",
       "        vertical-align: middle;\n",
       "    }\n",
       "\n",
       "    .dataframe tbody tr th {\n",
       "        vertical-align: top;\n",
       "    }\n",
       "\n",
       "    .dataframe thead th {\n",
       "        text-align: right;\n",
       "    }\n",
       "</style>\n",
       "<table border=\"1\" class=\"dataframe\">\n",
       "  <thead>\n",
       "    <tr style=\"text-align: right;\">\n",
       "      <th></th>\n",
       "      <th>RELIANCE.NS</th>\n",
       "      <th>^NSEI</th>\n",
       "    </tr>\n",
       "    <tr>\n",
       "      <th>Date</th>\n",
       "      <th></th>\n",
       "      <th></th>\n",
       "    </tr>\n",
       "  </thead>\n",
       "  <tbody>\n",
       "    <tr>\n",
       "      <th>2017-01-02</th>\n",
       "      <td>523.695251</td>\n",
       "      <td>8179.500000</td>\n",
       "    </tr>\n",
       "    <tr>\n",
       "      <th>2017-01-03</th>\n",
       "      <td>525.770447</td>\n",
       "      <td>8192.250000</td>\n",
       "    </tr>\n",
       "    <tr>\n",
       "      <th>2017-01-04</th>\n",
       "      <td>515.032166</td>\n",
       "      <td>8190.500000</td>\n",
       "    </tr>\n",
       "    <tr>\n",
       "      <th>2017-01-05</th>\n",
       "      <td>519.979004</td>\n",
       "      <td>8273.799805</td>\n",
       "    </tr>\n",
       "    <tr>\n",
       "      <th>2017-01-06</th>\n",
       "      <td>518.796570</td>\n",
       "      <td>8243.799805</td>\n",
       "    </tr>\n",
       "    <tr>\n",
       "      <th>...</th>\n",
       "      <td>...</td>\n",
       "      <td>...</td>\n",
       "    </tr>\n",
       "    <tr>\n",
       "      <th>2022-03-02</th>\n",
       "      <td>2398.550049</td>\n",
       "      <td>16605.949219</td>\n",
       "    </tr>\n",
       "    <tr>\n",
       "      <th>2022-03-03</th>\n",
       "      <td>2378.300049</td>\n",
       "      <td>16498.050781</td>\n",
       "    </tr>\n",
       "    <tr>\n",
       "      <th>2022-03-04</th>\n",
       "      <td>2325.550049</td>\n",
       "      <td>16245.349609</td>\n",
       "    </tr>\n",
       "    <tr>\n",
       "      <th>2022-03-07</th>\n",
       "      <td>2239.550049</td>\n",
       "      <td>15863.150391</td>\n",
       "    </tr>\n",
       "    <tr>\n",
       "      <th>2022-03-08</th>\n",
       "      <td>2235.500000</td>\n",
       "      <td>16013.450195</td>\n",
       "    </tr>\n",
       "  </tbody>\n",
       "</table>\n",
       "<p>1281 rows × 2 columns</p>\n",
       "</div>"
      ],
      "text/plain": [
       "            RELIANCE.NS         ^NSEI\n",
       "Date                                 \n",
       "2017-01-02   523.695251   8179.500000\n",
       "2017-01-03   525.770447   8192.250000\n",
       "2017-01-04   515.032166   8190.500000\n",
       "2017-01-05   519.979004   8273.799805\n",
       "2017-01-06   518.796570   8243.799805\n",
       "...                 ...           ...\n",
       "2022-03-02  2398.550049  16605.949219\n",
       "2022-03-03  2378.300049  16498.050781\n",
       "2022-03-04  2325.550049  16245.349609\n",
       "2022-03-07  2239.550049  15863.150391\n",
       "2022-03-08  2235.500000  16013.450195\n",
       "\n",
       "[1281 rows x 2 columns]"
      ]
     },
     "execution_count": 9,
     "metadata": {},
     "output_type": "execute_result"
    }
   ],
   "source": [
    "# Calculating the Beta of the stock and then the expected rate of return and finally the sharpe ratio.\n",
    "\n",
    "tickers = ['RELIANCE.NS','^NSEI']\n",
    "data3 = pd.DataFrame()\n",
    "for t in tickers:\n",
    "    data3[t] = pdr.DataReader(t, start = '2017-1-1', source = 'yahoo')['Adj Close']\n",
    "data3"
   ]
  },
  {
   "cell_type": "code",
   "execution_count": 10,
   "metadata": {},
   "outputs": [
    {
     "data": {
      "text/html": [
       "<div>\n",
       "<style scoped>\n",
       "    .dataframe tbody tr th:only-of-type {\n",
       "        vertical-align: middle;\n",
       "    }\n",
       "\n",
       "    .dataframe tbody tr th {\n",
       "        vertical-align: top;\n",
       "    }\n",
       "\n",
       "    .dataframe thead th {\n",
       "        text-align: right;\n",
       "    }\n",
       "</style>\n",
       "<table border=\"1\" class=\"dataframe\">\n",
       "  <thead>\n",
       "    <tr style=\"text-align: right;\">\n",
       "      <th></th>\n",
       "      <th>RELIANCE.NS</th>\n",
       "      <th>^NSEI</th>\n",
       "    </tr>\n",
       "    <tr>\n",
       "      <th>Date</th>\n",
       "      <th></th>\n",
       "      <th></th>\n",
       "    </tr>\n",
       "  </thead>\n",
       "  <tbody>\n",
       "    <tr>\n",
       "      <th>2017-01-02</th>\n",
       "      <td>NaN</td>\n",
       "      <td>NaN</td>\n",
       "    </tr>\n",
       "    <tr>\n",
       "      <th>2017-01-03</th>\n",
       "      <td>0.003955</td>\n",
       "      <td>0.001558</td>\n",
       "    </tr>\n",
       "    <tr>\n",
       "      <th>2017-01-04</th>\n",
       "      <td>-0.020635</td>\n",
       "      <td>-0.000214</td>\n",
       "    </tr>\n",
       "    <tr>\n",
       "      <th>2017-01-05</th>\n",
       "      <td>0.009559</td>\n",
       "      <td>0.010119</td>\n",
       "    </tr>\n",
       "    <tr>\n",
       "      <th>2017-01-06</th>\n",
       "      <td>-0.002277</td>\n",
       "      <td>-0.003632</td>\n",
       "    </tr>\n",
       "    <tr>\n",
       "      <th>...</th>\n",
       "      <td>...</td>\n",
       "      <td>...</td>\n",
       "    </tr>\n",
       "    <tr>\n",
       "      <th>2022-03-02</th>\n",
       "      <td>0.016393</td>\n",
       "      <td>-0.011255</td>\n",
       "    </tr>\n",
       "    <tr>\n",
       "      <th>2022-03-03</th>\n",
       "      <td>-0.008478</td>\n",
       "      <td>-0.006519</td>\n",
       "    </tr>\n",
       "    <tr>\n",
       "      <th>2022-03-04</th>\n",
       "      <td>-0.022429</td>\n",
       "      <td>-0.015436</td>\n",
       "    </tr>\n",
       "    <tr>\n",
       "      <th>2022-03-07</th>\n",
       "      <td>-0.037682</td>\n",
       "      <td>-0.023808</td>\n",
       "    </tr>\n",
       "    <tr>\n",
       "      <th>2022-03-08</th>\n",
       "      <td>-0.001810</td>\n",
       "      <td>0.009430</td>\n",
       "    </tr>\n",
       "  </tbody>\n",
       "</table>\n",
       "<p>1281 rows × 2 columns</p>\n",
       "</div>"
      ],
      "text/plain": [
       "            RELIANCE.NS     ^NSEI\n",
       "Date                             \n",
       "2017-01-02          NaN       NaN\n",
       "2017-01-03     0.003955  0.001558\n",
       "2017-01-04    -0.020635 -0.000214\n",
       "2017-01-05     0.009559  0.010119\n",
       "2017-01-06    -0.002277 -0.003632\n",
       "...                 ...       ...\n",
       "2022-03-02     0.016393 -0.011255\n",
       "2022-03-03    -0.008478 -0.006519\n",
       "2022-03-04    -0.022429 -0.015436\n",
       "2022-03-07    -0.037682 -0.023808\n",
       "2022-03-08    -0.001810  0.009430\n",
       "\n",
       "[1281 rows x 2 columns]"
      ]
     },
     "execution_count": 10,
     "metadata": {},
     "output_type": "execute_result"
    }
   ],
   "source": [
    "log_rets = np.log(data3/data3.shift(1))\n",
    "log_rets"
   ]
  },
  {
   "cell_type": "code",
   "execution_count": 11,
   "metadata": {},
   "outputs": [
    {
     "data": {
      "image/png": "[encoded data removed]",
      "text/plain": [
       "<Figure size 432x288 with 1 Axes>"
      ]
     },
     "metadata": {
      "needs_background": "light"
     },
     "output_type": "display_data"
    }
   ],
   "source": [
    "log_rets['RELIANCE.NS'].plot()\n",
    "plt.show()"
   ]
  },
  {
   "cell_type": "code",
   "execution_count": 12,
   "metadata": {},
   "outputs": [
    {
     "data": {
      "text/html": [
       "<div>\n",
       "<style scoped>\n",
       "    .dataframe tbody tr th:only-of-type {\n",
       "        vertical-align: middle;\n",
       "    }\n",
       "\n",
       "    .dataframe tbody tr th {\n",
       "        vertical-align: top;\n",
       "    }\n",
       "\n",
       "    .dataframe thead th {\n",
       "        text-align: right;\n",
       "    }\n",
       "</style>\n",
       "<table border=\"1\" class=\"dataframe\">\n",
       "  <thead>\n",
       "    <tr style=\"text-align: right;\">\n",
       "      <th></th>\n",
       "      <th>RELIANCE.NS</th>\n",
       "      <th>^NSEI</th>\n",
       "    </tr>\n",
       "  </thead>\n",
       "  <tbody>\n",
       "    <tr>\n",
       "      <th>RELIANCE.NS</th>\n",
       "      <td>0.096427</td>\n",
       "      <td>0.037645</td>\n",
       "    </tr>\n",
       "    <tr>\n",
       "      <th>^NSEI</th>\n",
       "      <td>0.037645</td>\n",
       "      <td>0.034524</td>\n",
       "    </tr>\n",
       "  </tbody>\n",
       "</table>\n",
       "</div>"
      ],
      "text/plain": [
       "             RELIANCE.NS     ^NSEI\n",
       "RELIANCE.NS     0.096427  0.037645\n",
       "^NSEI           0.037645  0.034524"
      ]
     },
     "execution_count": 12,
     "metadata": {},
     "output_type": "execute_result"
    }
   ],
   "source": [
    "#250, because that is the amount of days the stock market opens on average in a year\n",
    "cov = log_rets.cov()*250\n",
    "cov"
   ]
  },
  {
   "cell_type": "code",
   "execution_count": 13,
   "metadata": {},
   "outputs": [
    {
     "data": {
      "text/plain": [
       "0.037644833342711764"
      ]
     },
     "execution_count": 13,
     "metadata": {},
     "output_type": "execute_result"
    }
   ],
   "source": [
    "cov_with_market = cov.iloc[0,1]\n",
    "cov_with_market"
   ]
  },
  {
   "cell_type": "code",
   "execution_count": 14,
   "metadata": {},
   "outputs": [
    {
     "data": {
      "text/plain": [
       "0.0345242563476317"
      ]
     },
     "execution_count": 14,
     "metadata": {},
     "output_type": "execute_result"
    }
   ],
   "source": [
    "market_var = log_rets['^NSEI'].var()*250\n",
    "market_var"
   ]
  },
  {
   "cell_type": "code",
   "execution_count": 15,
   "metadata": {},
   "outputs": [
    {
     "data": {
      "text/plain": [
       "1.0903879569094364"
      ]
     },
     "execution_count": 15,
     "metadata": {},
     "output_type": "execute_result"
    }
   ],
   "source": [
    "rel_beta = cov_with_market/market_var\n",
    "rel_beta"
   ]
  },
  {
   "cell_type": "code",
   "execution_count": 16,
   "metadata": {},
   "outputs": [
    {
     "data": {
      "text/plain": [
       "0.12918341329734476"
      ]
     },
     "execution_count": 16,
     "metadata": {},
     "output_type": "execute_result"
    }
   ],
   "source": [
    "#calculating risk free premium\n",
    "rfm = log_rets['^NSEI'].mean()*250\n",
    "rfm"
   ]
  },
  {
   "cell_type": "code",
   "execution_count": 17,
   "metadata": {},
   "outputs": [
    {
     "data": {
      "text/plain": [
       "0.13475885100049212"
      ]
     },
     "execution_count": 17,
     "metadata": {},
     "output_type": "execute_result"
    }
   ],
   "source": [
    "exp_ret = 0.0675 + rel_beta*(rfm - 0.0675)\n",
    "exp_ret"
   ]
  },
  {
   "cell_type": "code",
   "execution_count": 18,
   "metadata": {},
   "outputs": [
    {
     "data": {
      "text/plain": [
       "0.2165958299847281"
      ]
     },
     "execution_count": 18,
     "metadata": {},
     "output_type": "execute_result"
    }
   ],
   "source": [
    "#sharpe ratio\n",
    "\n",
    "sr = (exp_ret - 0.0675)/(log_rets['RELIANCE.NS'].std()*250**0.5)\n",
    "sr"
   ]
  },
  {
   "cell_type": "code",
   "execution_count": 19,
   "metadata": {},
   "outputs": [],
   "source": [
    "#Monte Carlo Simulation on Reliance Stock\n",
    "from scipy.stats import norm"
   ]
  },
  {
   "cell_type": "code",
   "execution_count": 20,
   "metadata": {},
   "outputs": [
    {
     "data": {
      "text/plain": [
       "0.0013266901642460624"
      ]
     },
     "execution_count": 20,
     "metadata": {},
     "output_type": "execute_result"
    }
   ],
   "source": [
    "rel_mean_d = log_rets['RELIANCE.NS'].mean()\n",
    "rel_var_d = log_rets['RELIANCE.NS'].var()\n",
    "\n",
    "#drift = avg daily return + 1/2(Variance)\n",
    "\n",
    "drift = rel_mean_d + 0.5*rel_var_d\n",
    "drift"
   ]
  },
  {
   "cell_type": "code",
   "execution_count": 21,
   "metadata": {},
   "outputs": [],
   "source": [
    "rel_std = log_rets['RELIANCE.NS'].std()\n",
    "\n",
    "drift = np.array(drift)\n",
    "rel_std = np.array(rel_std)\n"
   ]
  },
  {
   "cell_type": "code",
   "execution_count": 22,
   "metadata": {},
   "outputs": [],
   "source": [
    "t_interval = 1000\n",
    "iterations = 10\n",
    "x = np.random.rand(t_interval, iterations)\n",
    "\n",
    "daily_returns = np.exp(drift + rel_std*norm.ppf(x))\n"
   ]
  },
  {
   "cell_type": "code",
   "execution_count": 23,
   "metadata": {},
   "outputs": [
    {
     "data": {
      "text/plain": [
       "array([[2235.5, 2235.5, 2235.5, ..., 2235.5, 2235.5, 2235.5],\n",
       "       [   0. ,    0. ,    0. , ...,    0. ,    0. ,    0. ],\n",
       "       [   0. ,    0. ,    0. , ...,    0. ,    0. ,    0. ],\n",
       "       ...,\n",
       "       [   0. ,    0. ,    0. , ...,    0. ,    0. ,    0. ],\n",
       "       [   0. ,    0. ,    0. , ...,    0. ,    0. ,    0. ],\n",
       "       [   0. ,    0. ,    0. , ...,    0. ,    0. ,    0. ]])"
      ]
     },
     "execution_count": 23,
     "metadata": {},
     "output_type": "execute_result"
    }
   ],
   "source": [
    "S0 = data3['RELIANCE.NS'].iloc[-1]\n",
    "price = np.zeros_like(daily_returns)\n",
    "price[0] = S0\n",
    "price"
   ]
  },
  {
   "cell_type": "code",
   "execution_count": 24,
   "metadata": {},
   "outputs": [
    {
     "data": {
      "text/plain": [
       "[<matplotlib.lines.Line2D at 0x2c0ecf12070>,\n",
       " <matplotlib.lines.Line2D at 0x2c0ecf12190>,\n",
       " <matplotlib.lines.Line2D at 0x2c0ecf12250>,\n",
       " <matplotlib.lines.Line2D at 0x2c0ecf12310>,\n",
       " <matplotlib.lines.Line2D at 0x2c0ecf123d0>,\n",
       " <matplotlib.lines.Line2D at 0x2c0ecf12490>,\n",
       " <matplotlib.lines.Line2D at 0x2c0ecf12550>,\n",
       " <matplotlib.lines.Line2D at 0x2c0ecf12610>,\n",
       " <matplotlib.lines.Line2D at 0x2c0ecf126d0>,\n",
       " <matplotlib.lines.Line2D at 0x2c0ecf12790>]"
      ]
     },
     "execution_count": 24,
     "metadata": {},
     "output_type": "execute_result"
    },
    {
     "data": {
      "image/png": "[encoded data removed]",
      "text/plain": [
       "<Figure size 720x432 with 1 Axes>"
      ]
     },
     "metadata": {
      "needs_background": "light"
     },
     "output_type": "display_data"
    }
   ],
   "source": [
    "for t in range (1, t_interval):\n",
    "    price[t] = price[t-1]*daily_returns[t]\n",
    "    \n",
    "plt.figure(figsize = (10,6))\n",
    "plt.plot (price)"
   ]
  },
  {
   "cell_type": "code",
   "execution_count": null,
   "metadata": {},
   "outputs": [],
   "source": []
  }
 ],
 "metadata": {
  "kernelspec": {
   "display_name": "Python 3",
   "language": "python",
   "name": "python3"
  },
  "language_info": {
   "codemirror_mode": {
    "name": "ipython",
    "version": 3
   },
   "file_extension": ".py",
   "mimetype": "text/x-python",
   "name": "python",
   "nbconvert_exporter": "python",
   "pygments_lexer": "ipython3",
   "version": "3.8.3"
  }
 },
 "nbformat": 4,
 "nbformat_minor": 4
}
